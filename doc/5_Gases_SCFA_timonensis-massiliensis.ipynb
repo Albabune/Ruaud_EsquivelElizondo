{
 "cells": [
  {
   "cell_type": "markdown",
   "metadata": {},
   "source": [
    "# Preambule"
   ]
  },
  {
   "cell_type": "code",
   "execution_count": 1,
   "metadata": {},
   "outputs": [
    {
     "name": "stderr",
     "output_type": "stream",
     "text": [
      "Loading tidyverse: ggplot2\n",
      "Loading tidyverse: tibble\n",
      "Loading tidyverse: tidyr\n",
      "Loading tidyverse: readr\n",
      "Loading tidyverse: purrr\n",
      "Loading tidyverse: dplyr\n",
      "Conflicts with tidy packages ---------------------------------------------------\n",
      "filter(): dplyr, stats\n",
      "lag():    dplyr, stats\n"
     ]
    }
   ],
   "source": [
    "library(stringr)\n",
    "library(tidyverse)"
   ]
  },
  {
   "cell_type": "markdown",
   "metadata": {},
   "source": [
    "# Functions"
   ]
  },
  {
   "cell_type": "markdown",
   "metadata": {},
   "source": [
    "## Multiplot"
   ]
  },
  {
   "cell_type": "code",
   "execution_count": 4,
   "metadata": {},
   "outputs": [],
   "source": [
    "# Multiple plot function from : http://www.cookbook-r.com/Graphs/Multiple_graphs_on_one_page_(ggplot2)/\n",
    "#\n",
    "# ggplot objects can be passed in ..., or to plotlist (as a list of ggplot objects)\n",
    "# - cols:   Number of columns in layout\n",
    "# - layout: A matrix specifying the layout. If present, 'cols' is ignored.\n",
    "#\n",
    "# If the layout is something like matrix(c(1,2,3,3), nrow=2, byrow=TRUE),\n",
    "# then plot 1 will go in the upper left, 2 will go in the upper right, and\n",
    "# 3 will go all the way across the bottom.\n",
    "#\n",
    "multiplot <- function(..., plotlist=NULL, file, cols=1, layout=NULL) {\n",
    "  library(grid)\n",
    "\n",
    "  # Make a list from the ... arguments and plotlist\n",
    "  plots <- c(list(...), plotlist)\n",
    "\n",
    "  numPlots = length(plots)\n",
    "\n",
    "  # If layout is NULL, then use 'cols' to determine layout\n",
    "  if (is.null(layout)) {\n",
    "    # Make the panel\n",
    "    # ncol: Number of columns of plots\n",
    "    # nrow: Number of rows needed, calculated from # of cols\n",
    "    layout <- matrix(seq(1, cols * ceiling(numPlots/cols)),\n",
    "                    ncol = cols, nrow = ceiling(numPlots/cols))\n",
    "  }\n",
    "\n",
    " if (numPlots==1) {\n",
    "    print(plots[[1]])\n",
    "\n",
    "  } else {\n",
    "    # Set up the page\n",
    "    grid.newpage()\n",
    "    pushViewport(viewport(layout = grid.layout(nrow(layout), ncol(layout))))\n",
    "\n",
    "    # Make each plot, in the correct location\n",
    "    for (i in 1:numPlots) {\n",
    "      # Get the i,j matrix positions of the regions that contain this subplot\n",
    "      matchidx <- as.data.frame(which(layout == i, arr.ind = TRUE))\n",
    "\n",
    "      print(plots[[i]], vp = viewport(layout.pos.row = matchidx$row,\n",
    "                                      layout.pos.col = matchidx$col))\n",
    "    }\n",
    "  }\n",
    "}"
   ]
  },
  {
   "cell_type": "markdown",
   "metadata": {},
   "source": [
    "# Gases"
   ]
  },
  {
   "cell_type": "code",
   "execution_count": 2,
   "metadata": {},
   "outputs": [],
   "source": [
    "ggc_long <- read.table('../Gas-others_wt.txt', sep = '\\t')"
   ]
  },
  {
   "cell_type": "code",
   "execution_count": 4,
   "metadata": {},
   "outputs": [],
   "source": [
    "xticks <- seq(0, 7*24, 24)"
   ]
  },
  {
   "cell_type": "code",
   "execution_count": 578,
   "metadata": {},
   "outputs": [],
   "source": [
    "cma.p <- ggplot(data = ggc_long %>% subset(!str_detect(Sample, pattern = 'null') \n",
    "                                         & !(gas == 'H2' & microbe == 'M. smithii')\n",
    "                                         & !(gas == 'CH4' & microbe == 'C. massiliensis')\n",
    "                                         & Sample %in% c('MH2', 'Cma', 'CmaM'))\n",
    "                       , aes(x = Time, y = Concentration, group = id, fill = gas)) + \n",
    "            \n",
    "            stat_summary(aes(linetype = pressure), fun.y = \"mean\", size = 0.15, geom = \"line\", color = 'azure4') +\n",
    "            stat_summary(aes(shape = condition), fun.y = \"mean\", size = 2, geom = \"point\", color = 'black') +\n",
    "            stat_summary(fun.y = \"mean\", fun.ymin = \"min\", fun.ymax = \"max\", size = 0.45, geom = \"linerange\", color = 'indianred') +\n",
    "            \n",
    "            \n",
    "            ylim(c(0,10)) + \n",
    "            scale_x_continuous(breaks=xticks, labels = seq(0, length(xticks)-1, 1), limits = c(0,7*24)) +\n",
    "            \n",
    "            scale_shape_manual(name = 'Conditions', values = c(22, 21)\n",
    "                              , labels = c(expression('H'[2]*' - atm'), expression('N'[2]*' - atm'))) +\n",
    "            scale_fill_manual(name = 'Gas', values = c(\"#56B4E9\", \"#D55E00\")\n",
    "                             , guide=guide_legend(override.aes=list(shape=21))\n",
    "                             , labels = c(expression('CH'[4])\n",
    "                                          , expression('H'[2]) ) ) + \n",
    "            scale_linetype_manual(values = c(\"dashed\", \"dotted\", \"twodash\"), guide = FALSE) +\n",
    "\n",
    "            facet_grid(. ~microbe) +\n",
    "\n",
    "            theme_light() + ylab(expression('Concentration (mmol.L'^-1*')')) + xlab('Time (days)') + \n",
    "\n",
    "            theme(legend.position = 'right'\n",
    "                 , panel.grid = element_blank()\n",
    "                  \n",
    "                 , strip.text.x = element_text(size = 10, colour = \"black\", face = \"bold.italic\", vjust = 0)\n",
    "                 , strip.background = element_rect(color=\"white\", fill=\"white\", size=0, linetype=\"solid\") \n",
    "                 #, legend.key.size = unit(0.8, \"lines\")\n",
    "                 , axis.text = element_text(size = 8.5, colour = \"black\")\n",
    "                 , axis.title = element_text(size = 8.5, colour = \"black\")\n",
    "                 , legend.title = element_text(size = 9)\n",
    "                 , legend.text.align = 0\n",
    "                 , legend.margin = margin(t = 0, r = 4, b = 0, l = -6)) \n",
    "            "
   ]
  },
  {
   "cell_type": "code",
   "execution_count": 579,
   "metadata": {},
   "outputs": [
    {
     "data": {},
     "metadata": {},
     "output_type": "display_data"
    },
    {
     "data": {
      "image/png": "[encoded data removed]",
      "text/plain": [
       "plot without title"
      ]
     },
     "metadata": {},
     "output_type": "display_data"
    }
   ],
   "source": [
    "options(repr.plot.width=6.3, repr.plot.height=2.4)\n",
    "cma.p"
   ]
  },
  {
   "cell_type": "code",
   "execution_count": 581,
   "metadata": {},
   "outputs": [],
   "source": [
    "cti.p <- ggplot(data = ggc_long %>% subset(!str_detect(Sample, pattern = 'null') \n",
    "                                         & !(gas == 'H2' & microbe == 'M. smithii') \n",
    "                                         & !(gas == 'CH4' & microbe == 'C. timonensis')\n",
    "                                         & Sample %in% c('Ct', 'CtM'))\n",
    "                       , aes(x = Time, y = Concentration, group = id, fill = gas)) + \n",
    "            \n",
    "            stat_summary(aes(linetype = pressure), fun.y = \"mean\", size = 0.15, geom = \"line\", color = 'azure4') +\n",
    "            stat_summary(aes(shape = condition), fun.y = \"mean\", size = 2, geom = \"point\", color = 'black') +\n",
    "            stat_summary(fun.y = \"mean\", fun.ymin = \"min\", fun.ymax = \"max\", size = 0.45, geom = \"linerange\", color = 'indianred') +\n",
    "            \n",
    "            \n",
    "            ylim(c(0,5)) + \n",
    "            scale_x_continuous(breaks=xticks, labels = seq(0, length(xticks)-1, 1), limits = c(0,7*24)) +\n",
    "            \n",
    "            scale_shape_manual(name = 'Conditions', values = c(21)\n",
    "                              , labels = c(expression('H'[2]*' - atm'), expression('N'[2]*' - atm'))) +\n",
    "            scale_fill_manual(name = 'Gas', values = c(\"#56B4E9\", \"#D55E00\")\n",
    "                             , guide=guide_legend(override.aes=list(shape=21))\n",
    "                             , labels = c(expression('CH'[4])\n",
    "                                          , expression('H'[2]) ) ) + \n",
    "            scale_linetype_manual(values = c(\"dashed\", \"dotted\", \"twodash\"), guide = FALSE) +\n",
    "\n",
    "            facet_grid(. ~microbe) +\n",
    "\n",
    "            theme_light() + ylab(expression('Concentration (mmol.L'^-1*')')) + xlab('Time (days)') + \n",
    "\n",
    "            theme(legend.position = 'none'\n",
    "                 , panel.grid = element_blank()\n",
    "                  \n",
    "                 , strip.text.x = element_text(size = 10, colour = \"black\", face = \"bold.italic\", vjust = 0)\n",
    "                 , strip.background = element_rect(color=\"white\", fill=\"white\", size=0, linetype=\"solid\") \n",
    "                 #, legend.key.size = unit(0.8, \"lines\")\n",
    "                 , axis.text = element_text(size = 8.5, colour = \"black\")\n",
    "                 , axis.title = element_text(size = 8.5, colour = \"black\")\n",
    "                 , legend.title = element_text(size = 9)\n",
    "                 , legend.text.align = 0\n",
    "                 , legend.margin = margin(t = 0, r = 4, b = 0, l = -6)) \n",
    "            "
   ]
  },
  {
   "cell_type": "code",
   "execution_count": 582,
   "metadata": {},
   "outputs": [
    {
     "data": {},
     "metadata": {},
     "output_type": "display_data"
    },
    {
     "data": {
      "image/png": "[encoded data removed]",
      "text/plain": [
       "plot without title"
      ]
     },
     "metadata": {},
     "output_type": "display_data"
    }
   ],
   "source": [
    "options(repr.plot.width=3.8, repr.plot.height=2.4)\n",
    "cti.p"
   ]
  },
  {
   "cell_type": "markdown",
   "metadata": {},
   "source": [
    "# HPLC"
   ]
  },
  {
   "cell_type": "code",
   "execution_count": 11,
   "metadata": {},
   "outputs": [],
   "source": [
    "data <- read.table('../data/Gas-others_wt.txt', header = TRUE)"
   ]
  },
  {
   "cell_type": "code",
   "execution_count": 12,
   "metadata": {},
   "outputs": [
    {
     "data": {
      "text/html": [
       "<table>\n",
       "<thead><tr><th scope=col>Sample</th><th scope=col>Name</th><th scope=col>Concentration</th><th scope=col>Time</th><th scope=col>Conc_corrected</th><th scope=col>microbe</th><th scope=col>headspace</th><th scope=col>pressure</th><th scope=col>condition</th><th scope=col>id</th><th scope=col>pair</th><th scope=col>moco</th></tr></thead>\n",
       "<tbody>\n",
       "\t<tr><td>nullN2                     </td><td>Acetate                    </td><td> 6.5                       </td><td> 0.0                       </td><td>0.0                        </td><td>None                       </td><td>N2                         </td><td>atm                        </td><td>N2-atm                     </td><td>nullN2Acetate              </td><td>NA                         </td><td>mono                       </td></tr>\n",
       "\t<tr><td>nullN2                     </td><td>Acetate                    </td><td> 6.6                       </td><td>44.5                       </td><td>0.0                        </td><td>None                       </td><td>N2                         </td><td>atm                        </td><td>N2-atm                     </td><td>nullN2Acetate              </td><td>NA                         </td><td>mono                       </td></tr>\n",
       "\t<tr><td>C                          </td><td>Acetate                    </td><td>12.0                       </td><td>44.5                       </td><td>5.4                        </td><td>C. minuta                  </td><td>N2                         </td><td>atm                        </td><td>N2-atm                     </td><td>CAcetate                   </td><td>NA                         </td><td>mono                       </td></tr>\n",
       "\t<tr><td>C                          </td><td>Acetate                    </td><td>12.4                       </td><td>44.5                       </td><td>5.8                        </td><td>C. minuta                  </td><td>N2                         </td><td>atm                        </td><td>N2-atm                     </td><td>CAcetate                   </td><td>NA                         </td><td>mono                       </td></tr>\n",
       "\t<tr><td>C                          </td><td>Acetate                    </td><td>11.6                       </td><td>44.5                       </td><td>5.0                        </td><td>C. minuta                  </td><td>N2                         </td><td>atm                        </td><td>N2-atm                     </td><td>CAcetate                   </td><td>NA                         </td><td>mono                       </td></tr>\n",
       "\t<tr><td>CtM                        </td><td>Acetate                    </td><td> 6.8                       </td><td>44.5                       </td><td>0.2                        </td><td>M. smithii /\n",
       "C. timonensis</td><td>N2                         </td><td>atm                        </td><td>N2-atm                     </td><td>CtMAcetate                 </td><td>C. timonensis              </td><td>co                         </td></tr>\n",
       "</tbody>\n",
       "</table>\n"
      ],
      "text/latex": [
       "\\begin{tabular}{r|llllllllllll}\n",
       " Sample & Name & Concentration & Time & Conc\\_corrected & microbe & headspace & pressure & condition & id & pair & moco\\\\\n",
       "\\hline\n",
       "\t nullN2                      & Acetate                     &  6.5                        &  0.0                        & 0.0                         & None                        & N2                          & atm                         & N2-atm                      & nullN2Acetate               & NA                          & mono                       \\\\\n",
       "\t nullN2                      & Acetate                     &  6.6                        & 44.5                        & 0.0                         & None                        & N2                          & atm                         & N2-atm                      & nullN2Acetate               & NA                          & mono                       \\\\\n",
       "\t C                           & Acetate                     & 12.0                        & 44.5                        & 5.4                         & C. minuta                   & N2                          & atm                         & N2-atm                      & CAcetate                    & NA                          & mono                       \\\\\n",
       "\t C                           & Acetate                     & 12.4                        & 44.5                        & 5.8                         & C. minuta                   & N2                          & atm                         & N2-atm                      & CAcetate                    & NA                          & mono                       \\\\\n",
       "\t C                           & Acetate                     & 11.6                        & 44.5                        & 5.0                         & C. minuta                   & N2                          & atm                         & N2-atm                      & CAcetate                    & NA                          & mono                       \\\\\n",
       "\t CtM                         & Acetate                     &  6.8                        & 44.5                        & 0.2                         & M. smithii /\n",
       "C. timonensis & N2                          & atm                         & N2-atm                      & CtMAcetate                  & C. timonensis               & co                         \\\\\n",
       "\\end{tabular}\n"
      ],
      "text/markdown": [
       "\n",
       "Sample | Name | Concentration | Time | Conc_corrected | microbe | headspace | pressure | condition | id | pair | moco | \n",
       "|---|---|---|---|---|---|\n",
       "| nullN2                      | Acetate                     |  6.5                        |  0.0                        | 0.0                         | None                        | N2                          | atm                         | N2-atm                      | nullN2Acetate               | NA                          | mono                        | \n",
       "| nullN2                      | Acetate                     |  6.6                        | 44.5                        | 0.0                         | None                        | N2                          | atm                         | N2-atm                      | nullN2Acetate               | NA                          | mono                        | \n",
       "| C                           | Acetate                     | 12.0                        | 44.5                        | 5.4                         | C. minuta                   | N2                          | atm                         | N2-atm                      | CAcetate                    | NA                          | mono                        | \n",
       "| C                           | Acetate                     | 12.4                        | 44.5                        | 5.8                         | C. minuta                   | N2                          | atm                         | N2-atm                      | CAcetate                    | NA                          | mono                        | \n",
       "| C                           | Acetate                     | 11.6                        | 44.5                        | 5.0                         | C. minuta                   | N2                          | atm                         | N2-atm                      | CAcetate                    | NA                          | mono                        | \n",
       "| CtM                         | Acetate                     |  6.8                        | 44.5                        | 0.2                         | M. smithii /\n",
       "C. timonensis | N2                          | atm                         | N2-atm                      | CtMAcetate                  | C. timonensis               | co                          | \n",
       "\n",
       "\n"
      ],
      "text/plain": [
       "  Sample Name    Concentration Time Conc_corrected microbe                    \n",
       "1 nullN2 Acetate  6.5           0.0 0.0            None                       \n",
       "2 nullN2 Acetate  6.6          44.5 0.0            None                       \n",
       "3 C      Acetate 12.0          44.5 5.4            C. minuta                  \n",
       "4 C      Acetate 12.4          44.5 5.8            C. minuta                  \n",
       "5 C      Acetate 11.6          44.5 5.0            C. minuta                  \n",
       "6 CtM    Acetate  6.8          44.5 0.2            M. smithii /\\nC. timonensis\n",
       "  headspace pressure condition id            pair          moco\n",
       "1 N2        atm      N2-atm    nullN2Acetate NA            mono\n",
       "2 N2        atm      N2-atm    nullN2Acetate NA            mono\n",
       "3 N2        atm      N2-atm    CAcetate      NA            mono\n",
       "4 N2        atm      N2-atm    CAcetate      NA            mono\n",
       "5 N2        atm      N2-atm    CAcetate      NA            mono\n",
       "6 N2        atm      N2-atm    CtMAcetate    C. timonensis co  "
      ]
     },
     "metadata": {},
     "output_type": "display_data"
    }
   ],
   "source": [
    "data %>% head"
   ]
  },
  {
   "cell_type": "markdown",
   "metadata": {},
   "source": [
    "## Plots"
   ]
  },
  {
   "cell_type": "code",
   "execution_count": 13,
   "metadata": {},
   "outputs": [
    {
     "data": {
      "text/html": [
       "<table>\n",
       "<thead><tr><th scope=col>Name</th><th scope=col>Sample</th><th scope=col>Time</th><th scope=col>avg</th><th scope=col>std</th></tr></thead>\n",
       "<tbody>\n",
       "\t<tr><td>Acetate   </td><td>Cma       </td><td>164       </td><td>7.8333333 </td><td>0.49328829</td></tr>\n",
       "\t<tr><td>Acetate   </td><td>CmaM      </td><td>164       </td><td>9.7500000 </td><td>0.77781746</td></tr>\n",
       "\t<tr><td>Acetate   </td><td>Ct        </td><td>164       </td><td>5.0500000 </td><td>0.21213203</td></tr>\n",
       "\t<tr><td>Acetate   </td><td>CtM       </td><td>164       </td><td>4.3333333 </td><td>1.20968315</td></tr>\n",
       "\t<tr><td>Butyrate  </td><td>Cma       </td><td>164       </td><td>0.9333333 </td><td>0.05773503</td></tr>\n",
       "\t<tr><td>Butyrate  </td><td>CmaM      </td><td>164       </td><td>0.2000000 </td><td>0.14142136</td></tr>\n",
       "\t<tr><td>Butyrate  </td><td>Ct        </td><td>164       </td><td>1.1000000 </td><td>0.00000000</td></tr>\n",
       "\t<tr><td>Butyrate  </td><td>CtM       </td><td>164       </td><td>0.1333333 </td><td>0.15275252</td></tr>\n",
       "</tbody>\n",
       "</table>\n"
      ],
      "text/latex": [
       "\\begin{tabular}{r|lllll}\n",
       " Name & Sample & Time & avg & std\\\\\n",
       "\\hline\n",
       "\t Acetate    & Cma        & 164        & 7.8333333  & 0.49328829\\\\\n",
       "\t Acetate    & CmaM       & 164        & 9.7500000  & 0.77781746\\\\\n",
       "\t Acetate    & Ct         & 164        & 5.0500000  & 0.21213203\\\\\n",
       "\t Acetate    & CtM        & 164        & 4.3333333  & 1.20968315\\\\\n",
       "\t Butyrate   & Cma        & 164        & 0.9333333  & 0.05773503\\\\\n",
       "\t Butyrate   & CmaM       & 164        & 0.2000000  & 0.14142136\\\\\n",
       "\t Butyrate   & Ct         & 164        & 1.1000000  & 0.00000000\\\\\n",
       "\t Butyrate   & CtM        & 164        & 0.1333333  & 0.15275252\\\\\n",
       "\\end{tabular}\n"
      ],
      "text/markdown": [
       "\n",
       "Name | Sample | Time | avg | std | \n",
       "|---|---|---|---|---|---|---|---|\n",
       "| Acetate    | Cma        | 164        | 7.8333333  | 0.49328829 | \n",
       "| Acetate    | CmaM       | 164        | 9.7500000  | 0.77781746 | \n",
       "| Acetate    | Ct         | 164        | 5.0500000  | 0.21213203 | \n",
       "| Acetate    | CtM        | 164        | 4.3333333  | 1.20968315 | \n",
       "| Butyrate   | Cma        | 164        | 0.9333333  | 0.05773503 | \n",
       "| Butyrate   | CmaM       | 164        | 0.2000000  | 0.14142136 | \n",
       "| Butyrate   | Ct         | 164        | 1.1000000  | 0.00000000 | \n",
       "| Butyrate   | CtM        | 164        | 0.1333333  | 0.15275252 | \n",
       "\n",
       "\n"
      ],
      "text/plain": [
       "  Name     Sample Time avg       std       \n",
       "1 Acetate  Cma    164  7.8333333 0.49328829\n",
       "2 Acetate  CmaM   164  9.7500000 0.77781746\n",
       "3 Acetate  Ct     164  5.0500000 0.21213203\n",
       "4 Acetate  CtM    164  4.3333333 1.20968315\n",
       "5 Butyrate Cma    164  0.9333333 0.05773503\n",
       "6 Butyrate CmaM   164  0.2000000 0.14142136\n",
       "7 Butyrate Ct     164  1.1000000 0.00000000\n",
       "8 Butyrate CtM    164  0.1333333 0.15275252"
      ]
     },
     "metadata": {},
     "output_type": "display_data"
    }
   ],
   "source": [
    "data %>% subset((str_detect(Sample, pattern = 'ma') | str_detect(Sample, pattern = 't'))\n",
    "                 & Time > 6*24 \n",
    "               ) %>% group_by(Name, Sample, Time) %>% summarize(avg = mean(Conc_corrected), std = sd(Conc_corrected))"
   ]
  },
  {
   "cell_type": "code",
   "execution_count": 15,
   "metadata": {},
   "outputs": [],
   "source": [
    "ace.p <- ggplot(data = data %>% subset(!is.na(pair) & Name == 'Acetate')\n",
    "                       , aes(x = Time, y = Conc_corrected, group = id, fill = moco)) + \n",
    "            \n",
    "            stat_summary(fun.y = \"mean\", size = 0.2, geom = \"line\", color = 'azure4', linetype = 'dashed') +\n",
    "            stat_summary(fun.y = \"mean\", geom = \"point\", color = 'black', size = 2.5, alpha = 0.85, shape = 21) +\n",
    "            stat_summary(fun.y = \"mean\", fun.ymin = \"min\", fun.ymax = \"max\"\n",
    "                         , size = 0.5, geom = \"linerange\", linetype = 'solid', color = 'indianred') +\n",
    "            ylim(c(0,15)) +\n",
    "            scale_x_continuous(breaks=seq(0, 11*24, 24), labels = seq(0, 11, 1), limits = c(0, NA)) +\n",
    "            \n",
    "            scale_shape_manual(name = '', guide = FALSE) +\n",
    "            scale_fill_manual(name = '', values = c('azure2', 'deepskyblue4')\n",
    "                             , labels = c('Co-culture', 'Mono-culture') )+ \n",
    "            facet_grid(. ~pair) +\n",
    "\n",
    "            theme_light() + ylab(expression('Acetate (mmol.L'^-1*')')) + xlab('Time (days)') + \n",
    "\n",
    "            theme(legend.position = 'none'\n",
    "                 , panel.grid = element_blank()\n",
    "                  \n",
    "                 , strip.text.x = element_text(size = 10, colour = \"black\", face = \"bold.italic\", vjust = 0)\n",
    "                 , strip.background = element_rect(color=\"white\", fill=\"white\", size=0, linetype=\"solid\") \n",
    "                 , axis.text = element_text(size = 8.5, colour = \"black\")\n",
    "                 , axis.title = element_text(size = 8.5, colour = \"black\")\n",
    "                 , axis.title.y = element_text(margin = margin(t = 0, b = 0, r = -0.1, l = 0))\n",
    "                 , legend.title = element_text(size = 9)\n",
    "                 , legend.text.align = 0\n",
    "                 , legend.margin = margin(t = 0, r = 4, b = 0, l = -6)) "
   ]
  },
  {
   "cell_type": "code",
   "execution_count": 16,
   "metadata": {},
   "outputs": [],
   "source": [
    "but.p <- ggplot(data = data %>% subset(!is.na(pair) & Name == 'Butyrate')\n",
    "                       , aes(x = Time, y = Conc_corrected, group = id, fill = moco)) + \n",
    "            \n",
    "            stat_summary(fun.y = \"mean\", size = 0.2, geom = \"line\", color = 'azure4', linetype = 'dashed') +\n",
    "            stat_summary(fun.y = \"mean\", geom = \"point\", color = 'black', size = 2.5, alpha = 0.85, shape = 21) +\n",
    "            stat_summary(fun.y = \"mean\", fun.ymin = \"min\", fun.ymax = \"max\"\n",
    "                         , size = 0.5, geom = \"linerange\", linetype = 'solid', color = 'indianred') +\n",
    "            scale_x_continuous(breaks=seq(0, 11*24, 24), labels = seq(0, 11, 1), limits = c(0, NA)) +\n",
    "            scale_y_continuous(breaks=c(0, 0.5, 1.0, 1.5, 2.0, 2.5), labels = c(0, '', 1.0, '', 2.0, ''), limits = c(0, 2.5)) +\n",
    "            \n",
    "            scale_shape_manual(name = '', guide = FALSE) +\n",
    "            scale_fill_manual(name = '', values = c('azure2', 'deepskyblue4')\n",
    "                             , labels = c('Co-culture', 'Mono-culture') )+ \n",
    "            facet_grid(. ~pair) +\n",
    "\n",
    "            theme_light() + ylab(expression('Butyrate (mmol.L'^-1*')')) + xlab('Time (days)') + \n",
    "\n",
    "            theme(legend.position = 'none'\n",
    "                 , panel.grid = element_blank()\n",
    "                  \n",
    "                 , strip.text.x = element_text(size = 10, colour = \"black\", face = \"bold.italic\", vjust = 0)\n",
    "                 , strip.background = element_rect(color=\"white\", fill=\"white\", size=0, linetype=\"solid\") \n",
    "                 , axis.text = element_text(size = 8.5, colour = \"black\")\n",
    "                 , axis.title = element_text(size = 8.5, colour = \"black\")\n",
    "                 , legend.title = element_text(size = 9)\n",
    "                 , legend.text.align = 0\n",
    "                 , legend.margin = margin(t = 0, r = 4, b = 0, l = -6)) "
   ]
  },
  {
   "cell_type": "code",
   "execution_count": 17,
   "metadata": {},
   "outputs": [
    {
     "data": {},
     "metadata": {},
     "output_type": "display_data"
    },
    {
     "data": {},
     "metadata": {},
     "output_type": "display_data"
    },
    {
     "data": {
      "image/png": "[encoded data removed]",
      "text/plain": [
       "plot without title"
      ]
     },
     "metadata": {},
     "output_type": "display_data"
    },
    {
     "data": {
      "image/png": "[encoded data removed]",
      "text/plain": [
       "plot without title"
      ]
     },
     "metadata": {},
     "output_type": "display_data"
    }
   ],
   "source": [
    "options(repr.plot.width=3.8, repr.plot.height=2.2)\n",
    "ace.p\n",
    "but.p"
   ]
  },
  {
   "cell_type": "markdown",
   "metadata": {},
   "source": [
    "# Statistics"
   ]
  },
  {
   "cell_type": "markdown",
   "metadata": {},
   "source": [
    "## SCFA"
   ]
  },
  {
   "cell_type": "code",
   "execution_count": 106,
   "metadata": {},
   "outputs": [],
   "source": [
    "scfa_stat <- read.table('../data/SCFA_wt.txt', stringsAsFactors = F) %>% \n",
    "        subset(str_detect(SampleBatch, pattern = 'Catm') & Time > 6*24 & Name != 'Sum') %>% unique %>% \n",
    "        select(Name, Sample, Time, Concentration, microbe)"
   ]
  },
  {
   "cell_type": "code",
   "execution_count": 107,
   "metadata": {},
   "outputs": [],
   "source": [
    "tmp <- data %>% subset((str_detect(Sample, pattern = 'Ct')| str_detect(Sample, pattern = 'Cma')) & Time == 164.0) %>%\n",
    "          select(-Concentration) %>% rename(Concentration = Conc_corrected) %>%\n",
    "        select(Name, Sample, Time, Concentration, microbe)%>% unique"
   ]
  },
  {
   "cell_type": "code",
   "execution_count": 108,
   "metadata": {},
   "outputs": [],
   "source": [
    "scfa_stat <- scfa_stat %>% union(tmp)"
   ]
  },
  {
   "cell_type": "code",
   "execution_count": 118,
   "metadata": {},
   "outputs": [
    {
     "data": {
      "text/html": [
       "<table>\n",
       "<thead><tr><th></th><th scope=col>Name</th><th scope=col>Sample</th><th scope=col>Time</th><th scope=col>Concentration</th><th scope=col>microbe</th></tr></thead>\n",
       "<tbody>\n",
       "\t<tr><th scope=row>12</th><td>Acetate                    </td><td>Ct                         </td><td>164                        </td><td>5.2                        </td><td>C. timonensis              </td></tr>\n",
       "\t<tr><th scope=row>13</th><td>Acetate                    </td><td>Ct                         </td><td>164                        </td><td>4.9                        </td><td>C. timonensis              </td></tr>\n",
       "\t<tr><th scope=row>16</th><td>Acetate                    </td><td>CtM                        </td><td>164                        </td><td>3.4                        </td><td>M. smithii /\n",
       "C. timonensis</td></tr>\n",
       "\t<tr><th scope=row>17</th><td>Acetate                    </td><td>CtM                        </td><td>164                        </td><td>3.9                        </td><td>M. smithii /\n",
       "C. timonensis</td></tr>\n",
       "\t<tr><th scope=row>18</th><td>Acetate                    </td><td>CtM                        </td><td>164                        </td><td>5.7                        </td><td>M. smithii /\n",
       "C. timonensis</td></tr>\n",
       "</tbody>\n",
       "</table>\n"
      ],
      "text/latex": [
       "\\begin{tabular}{r|lllll}\n",
       "  & Name & Sample & Time & Concentration & microbe\\\\\n",
       "\\hline\n",
       "\t12 & Acetate                     & Ct                          & 164                         & 5.2                         & C. timonensis              \\\\\n",
       "\t13 & Acetate                     & Ct                          & 164                         & 4.9                         & C. timonensis              \\\\\n",
       "\t16 & Acetate                     & CtM                         & 164                         & 3.4                         & M. smithii /\n",
       "C. timonensis\\\\\n",
       "\t17 & Acetate                     & CtM                         & 164                         & 3.9                         & M. smithii /\n",
       "C. timonensis\\\\\n",
       "\t18 & Acetate                     & CtM                         & 164                         & 5.7                         & M. smithii /\n",
       "C. timonensis\\\\\n",
       "\\end{tabular}\n"
      ],
      "text/markdown": [
       "\n",
       "| <!--/--> | Name | Sample | Time | Concentration | microbe | \n",
       "|---|---|---|---|---|\n",
       "| 12 | Acetate                     | Ct                          | 164                         | 5.2                         | C. timonensis               | \n",
       "| 13 | Acetate                     | Ct                          | 164                         | 4.9                         | C. timonensis               | \n",
       "| 16 | Acetate                     | CtM                         | 164                         | 3.4                         | M. smithii /\n",
       "C. timonensis | \n",
       "| 17 | Acetate                     | CtM                         | 164                         | 3.9                         | M. smithii /\n",
       "C. timonensis | \n",
       "| 18 | Acetate                     | CtM                         | 164                         | 5.7                         | M. smithii /\n",
       "C. timonensis | \n",
       "\n",
       "\n"
      ],
      "text/plain": [
       "   Name    Sample Time Concentration microbe                    \n",
       "12 Acetate Ct     164  5.2           C. timonensis              \n",
       "13 Acetate Ct     164  4.9           C. timonensis              \n",
       "16 Acetate CtM    164  3.4           M. smithii /\\nC. timonensis\n",
       "17 Acetate CtM    164  3.9           M. smithii /\\nC. timonensis\n",
       "18 Acetate CtM    164  5.7           M. smithii /\\nC. timonensis"
      ]
     },
     "metadata": {},
     "output_type": "display_data"
    }
   ],
   "source": [
    "scfa_stat %>% subset(str_detect(microbe, pattern = 'ti') & Name == 'Acetate')"
   ]
  },
  {
   "cell_type": "code",
   "execution_count": 122,
   "metadata": {},
   "outputs": [
    {
     "name": "stdout",
     "output_type": "stream",
     "text": [
      "C. massiliensis"
     ]
    },
    {
     "data": {
      "text/plain": [
       "\n",
       "\tWilcoxon rank sum test\n",
       "\n",
       "data:  Concentration by Sample\n",
       "W = 0, p-value = 0.2\n",
       "alternative hypothesis: true location shift is not equal to 0\n"
      ]
     },
     "metadata": {},
     "output_type": "display_data"
    },
    {
     "name": "stdout",
     "output_type": "stream",
     "text": [
      "\n",
      " C. timonensis"
     ]
    },
    {
     "data": {
      "text/plain": [
       "\n",
       "\tWilcoxon rank sum test\n",
       "\n",
       "data:  Concentration by Sample\n",
       "W = 4, p-value = 0.8\n",
       "alternative hypothesis: true location shift is not equal to 0\n"
      ]
     },
     "metadata": {},
     "output_type": "display_data"
    }
   ],
   "source": [
    "# Acetate\n",
    "cat('C. massiliensis')\n",
    "wilcox.test(Concentration ~ Sample\n",
    "            , data = scfa_stat %>% subset(str_detect(microbe, pattern = 'ma') & Name == 'Acetate') )\n",
    "cat('\\n C. timonensis')\n",
    "wilcox.test(Concentration ~ Sample\n",
    "            , data = scfa_stat %>% subset(str_detect(microbe, pattern = 'ti') & Name == 'Acetate') )"
   ]
  },
  {
   "cell_type": "code",
   "execution_count": 121,
   "metadata": {},
   "outputs": [
    {
     "name": "stdout",
     "output_type": "stream",
     "text": [
      "C. massiliensis"
     ]
    },
    {
     "data": {
      "text/plain": [
       "\n",
       "\tWilcoxon rank sum test\n",
       "\n",
       "data:  Concentration by Sample\n",
       "W = 4, p-value = 0.3333\n",
       "alternative hypothesis: true location shift is not equal to 0\n"
      ]
     },
     "metadata": {},
     "output_type": "display_data"
    },
    {
     "name": "stdout",
     "output_type": "stream",
     "text": [
      "\n",
      " C. timonensis"
     ]
    },
    {
     "data": {
      "text/plain": [
       "\n",
       "\tWilcoxon rank sum test\n",
       "\n",
       "data:  Concentration by Sample\n",
       "W = 3, p-value = 0.5\n",
       "alternative hypothesis: true location shift is not equal to 0\n"
      ]
     },
     "metadata": {},
     "output_type": "display_data"
    }
   ],
   "source": [
    "# Butyrate\n",
    "cat('C. massiliensis')\n",
    "wilcox.test(Concentration ~ Sample\n",
    "            , data = scfa_stat %>% subset(str_detect(microbe, pattern = 'ma') & Name == 'Butyrate') )\n",
    "cat('\\n C. timonensis')\n",
    "wilcox.test(Concentration ~ Sample\n",
    "            , data = scfa_stat %>% subset(str_detect(microbe, pattern = 'ti') & Name == 'Butyrate') )"
   ]
  },
  {
   "cell_type": "markdown",
   "metadata": {},
   "source": [
    "## Gases"
   ]
  },
  {
   "cell_type": "code",
   "execution_count": 128,
   "metadata": {},
   "outputs": [],
   "source": [
    "ggc_chris <- read.table('../data/Gas_wt.txt', stringsAsFactors = FALSE) %>% \n",
    "        subset(Batch == 'N2 - atm' & str_detect(microbe, pattern = 'min') & Time > 144 & Time < 168 ) %>%\n",
    "        select(microbe, Replicate, Time, Concentration, gas)"
   ]
  },
  {
   "cell_type": "code",
   "execution_count": 133,
   "metadata": {},
   "outputs": [
    {
     "name": "stderr",
     "output_type": "stream",
     "text": [
      "Warning message:\n",
      "“Column `microbe` joining character vector and factor, coercing into character vector”Warning message:\n",
      "“Column `Replicate` joining character vector and factor, coercing into character vector”"
     ]
    }
   ],
   "source": [
    "ggc_chris <- ggc_all %>% \n",
    "        union(ggc_long %>% subset(Time== 164) %>% select(microbe, Replicate, Time, Concentration, gas))"
   ]
  },
  {
   "cell_type": "code",
   "execution_count": 143,
   "metadata": {},
   "outputs": [
    {
     "data": {
      "text/plain": [
       "            Df Sum Sq Mean Sq F value   Pr(>F)    \n",
       "microbe      2  39.39  19.696   72.34 0.000204 ***\n",
       "Residuals    5   1.36   0.272                     \n",
       "---\n",
       "Signif. codes:  0 ‘***’ 0.001 ‘**’ 0.01 ‘*’ 0.05 ‘.’ 0.1 ‘ ’ 1"
      ]
     },
     "metadata": {},
     "output_type": "display_data"
    },
    {
     "data": {
      "text/plain": [
       "  Tukey multiple comparisons of means\n",
       "    95% family-wise confidence level\n",
       "\n",
       "Fit: aov(formula = .)\n",
       "\n",
       "$microbe\n",
       "                                                               diff       lwr\n",
       "M. smithii /\\nC. minuta-M. smithii /\\nC. massiliensis      2.571718  1.021791\n",
       "M. smithii /\\nC. timonensis-M. smithii /\\nC. massiliensis -2.552876 -4.102803\n",
       "M. smithii /\\nC. timonensis-M. smithii /\\nC. minuta       -5.124593 -6.510890\n",
       "                                                                upr     p adj\n",
       "M. smithii /\\nC. minuta-M. smithii /\\nC. massiliensis      4.121645 0.0068054\n",
       "M. smithii /\\nC. timonensis-M. smithii /\\nC. massiliensis -1.002949 0.0070246\n",
       "M. smithii /\\nC. timonensis-M. smithii /\\nC. minuta       -3.738297 0.0001650\n"
      ]
     },
     "metadata": {},
     "output_type": "display_data"
    }
   ],
   "source": [
    "ano_ch4 <- lm(Concentration ~ microbe\n",
    "            , data = ggc_chris %>% subset(str_detect(microbe, pattern = '/') & gas == 'CH4') ) %>% aov \n",
    "ano_ch4 %>% summary\n",
    "\n",
    "TukeyHSD(ano_ch4)"
   ]
  }
 ],
 "metadata": {
  "kernelspec": {
   "display_name": "R [conda env:test]",
   "language": "R",
   "name": "conda-env-test-r"
  },
  "language_info": {
   "codemirror_mode": "r",
   "file_extension": ".r",
   "mimetype": "text/x-r-source",
   "name": "R",
   "pygments_lexer": "r",
   "version": "3.4.1"
  },
  "toc": {
   "base_numbering": 1,
   "nav_menu": {},
   "number_sections": true,
   "sideBar": true,
   "skip_h1_title": false,
   "title_cell": "Table of Contents",
   "title_sidebar": "Contents",
   "toc_cell": false,
   "toc_position": {
    "height": "667px",
    "left": "0px",
    "right": "1148px",
    "top": "111px",
    "width": "203px"
   },
   "toc_section_display": "block",
   "toc_window_display": true
  }
 },
 "nbformat": 4,
 "nbformat_minor": 2
}
