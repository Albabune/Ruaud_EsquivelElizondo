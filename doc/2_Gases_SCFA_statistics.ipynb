{
 "cells": [
  {
   "cell_type": "markdown",
   "metadata": {},
   "source": [
    "# Preambule"
   ]
  },
  {
   "cell_type": "code",
   "execution_count": 1,
   "metadata": {},
   "outputs": [
    {
     "name": "stderr",
     "output_type": "stream",
     "text": [
      "Loading tidyverse: ggplot2\n",
      "Loading tidyverse: tibble\n",
      "Loading tidyverse: tidyr\n",
      "Loading tidyverse: readr\n",
      "Loading tidyverse: purrr\n",
      "Loading tidyverse: dplyr\n",
      "Conflicts with tidy packages ---------------------------------------------------\n",
      "filter(): dplyr, stats\n",
      "lag():    dplyr, stats\n",
      "\n",
      "Attaching package: ‘nlme’\n",
      "\n",
      "The following object is masked from ‘package:dplyr’:\n",
      "\n",
      "    collapse\n",
      "\n"
     ]
    }
   ],
   "source": [
    "library(stringr)\n",
    "library(tidyverse)\n",
    "library(nlme)"
   ]
  },
  {
   "cell_type": "code",
   "execution_count": 16,
   "metadata": {},
   "outputs": [
    {
     "data": {
      "text/plain": [
       "R version 3.4.1 (2017-06-30)\n",
       "Platform: x86_64-pc-linux-gnu (64-bit)\n",
       "Running under: Ubuntu 18.04.3 LTS\n",
       "\n",
       "Matrix products: default\n",
       "BLAS: /ebio/abt3_projects/small_projects/aruaud/miniconda3/envs/test/lib/R/lib/libRblas.so\n",
       "LAPACK: /ebio/abt3_projects/small_projects/aruaud/miniconda3/envs/test/lib/R/lib/libRlapack.so\n",
       "\n",
       "locale:\n",
       " [1] LC_CTYPE=en_US.UTF-8       LC_NUMERIC=C              \n",
       " [3] LC_TIME=en_US.UTF-8        LC_COLLATE=en_US.UTF-8    \n",
       " [5] LC_MONETARY=en_US.UTF-8    LC_MESSAGES=en_US.UTF-8   \n",
       " [7] LC_PAPER=en_US.UTF-8       LC_NAME=C                 \n",
       " [9] LC_ADDRESS=C               LC_TELEPHONE=C            \n",
       "[11] LC_MEASUREMENT=en_US.UTF-8 LC_IDENTIFICATION=C       \n",
       "\n",
       "attached base packages:\n",
       "[1] stats     graphics  grDevices utils     datasets  methods   base     \n",
       "\n",
       "other attached packages:\n",
       "[1] nlme_3.1-131    dplyr_0.7.4     purrr_0.2.3     readr_1.1.1    \n",
       "[5] tidyr_0.7.1     tibble_1.3.4    ggplot2_2.2.1   tidyverse_1.1.1\n",
       "[9] stringr_1.2.0  \n",
       "\n",
       "loaded via a namespace (and not attached):\n",
       " [1] Rcpp_0.12.13     cellranger_1.1.0 compiler_3.4.1   plyr_1.8.4      \n",
       " [5] bindr_0.1        forcats_0.2.0    tools_3.4.1      digest_0.6.12   \n",
       " [9] uuid_0.1-2       lubridate_1.6.0  gtable_0.2.0     jsonlite_1.5    \n",
       "[13] evaluate_0.10    lattice_0.20-35  pkgconfig_2.0.1  rlang_0.1.2     \n",
       "[17] psych_1.7.8      IRdisplay_0.4.4  IRkernel_0.7.1   parallel_3.4.1  \n",
       "[21] haven_1.1.0      bindrcpp_0.2     xml2_1.1.1       httr_1.3.1      \n",
       "[25] repr_0.10        hms_0.3          grid_3.4.1       glue_1.1.1      \n",
       "[29] R6_2.2.1         readxl_1.0.0     foreign_0.8-69   pbdZMQ_0.2-6    \n",
       "[33] modelr_0.1.1     reshape2_1.4.2   magrittr_1.5     scales_1.0.0    \n",
       "[37] rvest_0.3.2      assertthat_0.2.0 mnormt_1.5-5     colorspace_1.3-2\n",
       "[41] stringi_1.2.3    lazyeval_0.2.0   munsell_0.5.0    broom_0.4.2     \n",
       "[45] crayon_1.3.2    "
      ]
     },
     "metadata": {},
     "output_type": "display_data"
    }
   ],
   "source": [
    "sessionInfo()"
   ]
  },
  {
   "cell_type": "markdown",
   "metadata": {},
   "source": [
    "# SCFA: two-way anova "
   ]
  },
  {
   "cell_type": "code",
   "execution_count": 16,
   "metadata": {},
   "outputs": [],
   "source": [
    "scfa <- read.table('../data/SCFA_wt.txt') %>% subset(str_detect(Sample, pattern = 'C') & Time > 6*24 ) %>% unique"
   ]
  },
  {
   "cell_type": "code",
   "execution_count": 17,
   "metadata": {},
   "outputs": [],
   "source": [
    "scfa$condition <- ifelse(str_detect(scfa$SampleBatch, pattern = 'C3'), 'N2-2bar'\n",
    "                        , ifelse(str_detect(scfa$SampleBatch, pattern = 'Catm'), 'N2-atm'\n",
    "                                 , 'H2-2bar'\n",
    "                        ) )\n"
   ]
  },
  {
   "cell_type": "markdown",
   "metadata": {},
   "source": [
    "## Acetate"
   ]
  },
  {
   "cell_type": "code",
   "execution_count": 7,
   "metadata": {},
   "outputs": [
    {
     "data": {
      "text/plain": [
       "                 Df Sum Sq Mean Sq F value   Pr(>F)    \n",
       "condition         2  4.038   2.019   73.00 1.92e-07 ***\n",
       "Sample            1  8.778   8.778  317.41 5.36e-10 ***\n",
       "condition:Sample  2  1.609   0.805   29.09 2.50e-05 ***\n",
       "Residuals        12  0.332   0.028                     \n",
       "---\n",
       "Signif. codes:  0 ‘***’ 0.001 ‘**’ 0.01 ‘*’ 0.05 ‘.’ 0.1 ‘ ’ 1"
      ]
     },
     "metadata": {},
     "output_type": "display_data"
    }
   ],
   "source": [
    "mod_ace <- lm(Concentration ~ condition * Sample, data = scfa %>% subset(Name == 'Acetate'))\n",
    "ano_ace <- aov(mod_ace)\n",
    "ano_ace %>% summary"
   ]
  },
  {
   "cell_type": "code",
   "execution_count": 9,
   "metadata": {
    "collapsed": true
   },
   "outputs": [
    {
     "data": {
      "text/plain": [
       "  Tukey multiple comparisons of means\n",
       "    95% family-wise confidence level\n",
       "\n",
       "Fit: aov(formula = mod_ace)\n",
       "\n",
       "$condition\n",
       "                  diff        lwr        upr     p adj\n",
       "N2-2bar-H2-2bar  1.127  0.8708501  1.3831499 0.0000002\n",
       "N2-atm-H2-2bar   0.325  0.0688501  0.5811499 0.0138898\n",
       "N2-atm-N2-2bar  -0.802 -1.0581499 -0.5458501 0.0000067\n",
       "\n",
       "$Sample\n",
       "         diff     lwr      upr p adj\n",
       "MC-C 1.396667 1.22586 1.567473     0\n",
       "\n",
       "$`condition:Sample`\n",
       "                            diff        lwr         upr     p adj\n",
       "N2-2bar:C-H2-2bar:C    0.7886667  0.3325821  1.24475119 0.0009104\n",
       "N2-atm:C-H2-2bar:C    -0.4066667 -0.8627512  0.04941786 0.0912975\n",
       "H2-2bar:MC-H2-2bar:C   0.6833333  0.2272488  1.13941786 0.0030698\n",
       "N2-2bar:MC-H2-2bar:C   2.1486667  1.6925821  2.60475119 0.0000000\n",
       "N2-atm:MC-H2-2bar:C    1.7400000  1.2839155  2.19608452 0.0000003\n",
       "N2-atm:C-N2-2bar:C    -1.1953333 -1.6514179 -0.73924881 0.0000162\n",
       "H2-2bar:MC-N2-2bar:C  -0.1053333 -0.5614179  0.35075119 0.9666277\n",
       "N2-2bar:MC-N2-2bar:C   1.3600000  0.9039155  1.81608452 0.0000041\n",
       "N2-atm:MC-N2-2bar:C    0.9513333  0.4952488  1.40741786 0.0001605\n",
       "H2-2bar:MC-N2-atm:C    1.0900000  0.6339155  1.54608452 0.0000418\n",
       "N2-2bar:MC-N2-atm:C    2.5553333  2.0992488  3.01141786 0.0000000\n",
       "N2-atm:MC-N2-atm:C     2.1466667  1.6905821  2.60275119 0.0000000\n",
       "N2-2bar:MC-H2-2bar:MC  1.4653333  1.0092488  1.92141786 0.0000019\n",
       "N2-atm:MC-H2-2bar:MC   1.0566667  0.6005821  1.51275119 0.0000571\n",
       "N2-atm:MC-N2-2bar:MC  -0.4086667 -0.8647512  0.04741786 0.0891325\n"
      ]
     },
     "metadata": {},
     "output_type": "display_data"
    }
   ],
   "source": [
    "TukeyHSD(ano_ace)"
   ]
  },
  {
   "cell_type": "code",
   "execution_count": 34,
   "metadata": {},
   "outputs": [],
   "source": [
    "### To calculate the difference between mono- and co-cultures\n",
    "\n",
    "tmp1 <- scfa %>% subset(Name == 'Acetate' & !str_detect(Replicate, pattern = 'M')) %>% \n",
    "            group_by(SampleBatch) %>% summarize(avg = mean(Concentration))\n",
    "tmp1$Batch <- tmp1$SampleBatch %>% str_replace(pattern = '^C', replacement = '')\n",
    "\n",
    "tmp2 <- scfa %>% subset(Name == 'Acetate' & str_detect(Replicate, pattern = 'M') ) \n",
    "tmp2$Batch <- tmp2$SampleBatch %>% str_replace(pattern = '^MC', replacement = '')\n",
    "tmp2 <- tmp2 %>% left_join(tmp1, by = 'Batch')\n",
    "tmp2$Con_centred <- tmp2$Concentration - tmp2$avg"
   ]
  },
  {
   "cell_type": "code",
   "execution_count": 44,
   "metadata": {},
   "outputs": [
    {
     "data": {
      "text/html": [
       "1.39666666666667"
      ],
      "text/latex": [
       "1.39666666666667"
      ],
      "text/markdown": [
       "1.39666666666667"
      ],
      "text/plain": [
       "[1] 1.396667"
      ]
     },
     "metadata": {},
     "output_type": "display_data"
    }
   ],
   "source": [
    "tmp2$Con_centred %>% mean"
   ]
  },
  {
   "cell_type": "markdown",
   "metadata": {},
   "source": [
    "## Butyrate"
   ]
  },
  {
   "cell_type": "code",
   "execution_count": 10,
   "metadata": {},
   "outputs": [
    {
     "data": {
      "text/plain": [
       "                 Df Sum Sq Mean Sq F value   Pr(>F)    \n",
       "condition         2  5.658   2.829  89.402 6.19e-08 ***\n",
       "Sample            1  5.109   5.109 161.461 2.55e-08 ***\n",
       "condition:Sample  2  0.055   0.027   0.862    0.447    \n",
       "Residuals        12  0.380   0.032                     \n",
       "---\n",
       "Signif. codes:  0 ‘***’ 0.001 ‘**’ 0.01 ‘*’ 0.05 ‘.’ 0.1 ‘ ’ 1"
      ]
     },
     "metadata": {},
     "output_type": "display_data"
    }
   ],
   "source": [
    "mod_but <- lm(Concentration ~ condition * Sample, data = scfa %>% subset(Name == 'Butyrate'))\n",
    "ano_but <- aov(mod_but)\n",
    "ano_but %>% summary"
   ]
  },
  {
   "cell_type": "code",
   "execution_count": 11,
   "metadata": {
    "collapsed": true
   },
   "outputs": [
    {
     "data": {
      "text/plain": [
       "  Tukey multiple comparisons of means\n",
       "    95% family-wise confidence level\n",
       "\n",
       "Fit: aov(formula = mod_but)\n",
       "\n",
       "$condition\n",
       "                     diff         lwr        upr     p adj\n",
       "N2-2bar-H2-2bar  0.200000 -0.07400074  0.4740007 0.1680536\n",
       "N2-atm-H2-2bar  -1.076667 -1.35066741 -0.8026659 0.0000006\n",
       "N2-atm-N2-2bar  -1.276667 -1.55066741 -1.0026659 0.0000001\n",
       "\n",
       "$Sample\n",
       "          diff       lwr        upr p adj\n",
       "MC-C -1.065556 -1.248266 -0.8828455     0\n",
       "\n",
       "$`condition:Sample`\n",
       "                            diff        lwr        upr     p adj\n",
       "N2-2bar:C-H2-2bar:C    0.1000000 -0.3878686  0.5878686 0.9798798\n",
       "N2-atm:C-H2-2bar:C    -1.0483333 -1.5362019 -0.5604647 0.0001203\n",
       "H2-2bar:MC-H2-2bar:C  -1.1133333 -1.6012019 -0.6254647 0.0000664\n",
       "N2-2bar:MC-H2-2bar:C  -0.8133333 -1.3012019 -0.3254647 0.0012536\n",
       "N2-atm:MC-H2-2bar:C   -2.2183333 -2.7062019 -1.7304647 0.0000000\n",
       "N2-atm:C-N2-2bar:C    -1.1483333 -1.6362019 -0.6604647 0.0000487\n",
       "H2-2bar:MC-N2-2bar:C  -1.2133333 -1.7012019 -0.7254647 0.0000278\n",
       "N2-2bar:MC-N2-2bar:C  -0.9133333 -1.4012019 -0.4254647 0.0004448\n",
       "N2-atm:MC-N2-2bar:C   -2.3183333 -2.8062019 -1.8304647 0.0000000\n",
       "H2-2bar:MC-N2-atm:C   -0.0650000 -0.5528686  0.4228686 0.9971438\n",
       "N2-2bar:MC-N2-atm:C    0.2350000 -0.2528686  0.7228686 0.6031169\n",
       "N2-atm:MC-N2-atm:C    -1.1700000 -1.6578686 -0.6821314 0.0000403\n",
       "N2-2bar:MC-H2-2bar:MC  0.3000000 -0.1878686  0.7878686 0.3641186\n",
       "N2-atm:MC-H2-2bar:MC  -1.1050000 -1.5928686 -0.6171314 0.0000716\n",
       "N2-atm:MC-N2-2bar:MC  -1.4050000 -1.8928686 -0.9171314 0.0000060\n"
      ]
     },
     "metadata": {},
     "output_type": "display_data"
    }
   ],
   "source": [
    "TukeyHSD(ano_but)"
   ]
  },
  {
   "cell_type": "code",
   "execution_count": 37,
   "metadata": {
    "collapsed": true
   },
   "outputs": [
    {
     "data": {
      "text/html": [
       "-1.03333333333333"
      ],
      "text/latex": [
       "-1.03333333333333"
      ],
      "text/markdown": [
       "-1.03333333333333"
      ],
      "text/plain": [
       "[1] -1.033333"
      ]
     },
     "metadata": {},
     "output_type": "display_data"
    }
   ],
   "source": [
    "mean(c(-1.1, -0.9, -1.1))"
   ]
  },
  {
   "cell_type": "markdown",
   "metadata": {},
   "source": [
    "## adjusted p-value of the anovas"
   ]
  },
  {
   "cell_type": "code",
   "execution_count": 40,
   "metadata": {},
   "outputs": [],
   "source": [
    "pval <- c(1.92e-07 #ace condition\n",
    "          , 5.36e-10 #ace sample\n",
    "          , 2.50e-05 #ace int\n",
    "          \n",
    "          , 6.19e-08 #but condition\n",
    "          , 2.55e-08 #but sample\n",
    "          , 0.447#but int\n",
    "         )"
   ]
  },
  {
   "cell_type": "code",
   "execution_count": 41,
   "metadata": {},
   "outputs": [
    {
     "data": {
      "text/html": [
       "<ol class=list-inline>\n",
       "\t<li>2.88e-07</li>\n",
       "\t<li>3.216e-09</li>\n",
       "\t<li>3e-05</li>\n",
       "\t<li>1.238e-07</li>\n",
       "\t<li>7.65e-08</li>\n",
       "\t<li>0.447</li>\n",
       "</ol>\n"
      ],
      "text/latex": [
       "\\begin{enumerate*}\n",
       "\\item 2.88e-07\n",
       "\\item 3.216e-09\n",
       "\\item 3e-05\n",
       "\\item 1.238e-07\n",
       "\\item 7.65e-08\n",
       "\\item 0.447\n",
       "\\end{enumerate*}\n"
      ],
      "text/markdown": [
       "1. 2.88e-07\n",
       "2. 3.216e-09\n",
       "3. 3e-05\n",
       "4. 1.238e-07\n",
       "5. 7.65e-08\n",
       "6. 0.447\n",
       "\n",
       "\n"
      ],
      "text/plain": [
       "[1] 2.880e-07 3.216e-09 3.000e-05 1.238e-07 7.650e-08 4.470e-01"
      ]
     },
     "metadata": {},
     "output_type": "display_data"
    }
   ],
   "source": [
    "p.adjust(pval, method = 'BH')"
   ]
  },
  {
   "cell_type": "markdown",
   "metadata": {},
   "source": [
    "# Gases"
   ]
  },
  {
   "cell_type": "code",
   "execution_count": 2,
   "metadata": {},
   "outputs": [],
   "source": [
    "ggc_all <- read.table('Gas_wt.txt', stringsAsFactors = FALSE)"
   ]
  },
  {
   "cell_type": "code",
   "execution_count": 3,
   "metadata": {},
   "outputs": [],
   "source": [
    "ggc <- ggc_all %>% subset((Time == 157 & microbe %in% c('C. minuta', 'B. thetaiotaomicron') & Batch == 'N2 - 2 bar' & gas == 'H2')\n",
    "                            | (Time > 144 & Time < 168 & microbe == 'M. smithii' & Batch == 'N2 - atm' & gas == 'CH4')\n",
    "                            | (Time == 157 & microbe == 'M. smithii' & Batch == 'N2 - 2 bar' & gas == 'CH4')\n",
    "                            | (Time > 144 & Time < 168 & microbe == 'C. minuta'& Batch == 'N2 - atm'& gas == 'H2')\n",
    "                            \n",
    "                            | (Time > 144 & Time < 168 & str_detect(SampleBatch, pattern = 'M(C|B)')& gas == 'CH4')\n",
    "                            \n",
    "              )"
   ]
  },
  {
   "cell_type": "code",
   "execution_count": 4,
   "metadata": {},
   "outputs": [],
   "source": [
    "#ggc$condition[ggc$SampleBatch == 'MC-op' ] <- 'CH2-2bar'\n",
    "ggc$condition <- ggc$condition %>% str_replace_all(pattern = '-', replacement = '_')"
   ]
  },
  {
   "cell_type": "markdown",
   "metadata": {},
   "source": [
    "## N2 - 2 bar: C, B, MC and MB"
   ]
  },
  {
   "cell_type": "code",
   "execution_count": 5,
   "metadata": {},
   "outputs": [
    {
     "data": {
      "text/plain": [
       "\n",
       "\tWilcoxon rank sum test\n",
       "\n",
       "data:  Concentration by SampleBatch\n",
       "W = 0, p-value = 0.1\n",
       "alternative hypothesis: true location shift is not equal to 0\n"
      ]
     },
     "metadata": {},
     "output_type": "display_data"
    }
   ],
   "source": [
    "### H2 production C. minuta vs B. thetaiotamicron\n",
    "tmp <- c('B. thetaiotaomicron', 'C. minuta')\n",
    "wilcox.test(Concentration ~ SampleBatch\n",
    "            , data = ggc %>% subset(gas == 'H2' & Batch == 'N2 - 2 bar' & microbe %in% tmp) )"
   ]
  },
  {
   "cell_type": "code",
   "execution_count": 11,
   "metadata": {},
   "outputs": [
    {
     "data": {
      "text/plain": [
       "\n",
       "\tWilcoxon rank sum test\n",
       "\n",
       "data:  Concentration by SampleBatch\n",
       "W = 0, p-value = 0.1\n",
       "alternative hypothesis: true location shift is not equal to 0\n"
      ]
     },
     "metadata": {},
     "output_type": "display_data"
    }
   ],
   "source": [
    "### CH4 production of M. smithii with C. minuta vs witha B. thetaiotamicron\n",
    "# Comment: the names of the co-cultures both have a '/' so they are selected this way in the subset()\n",
    "tmp <- c('M. smithii / B. thetaiotaomicron', 'M. smithii / C. minuta')\n",
    "wilcox.test(Concentration ~ SampleBatch\n",
    "            , data = ggc %>% subset(gas == 'CH4' & Batch == 'N2 - 2 bar' & str_detect(microbe, pattern = '/') ) )"
   ]
  },
  {
   "cell_type": "markdown",
   "metadata": {},
   "source": [
    "## MC, C and M"
   ]
  },
  {
   "cell_type": "code",
   "execution_count": 12,
   "metadata": {},
   "outputs": [],
   "source": [
    "ggc$Sample <- ggc$SampleBatch %>% str_extract(pattern = '.*(?=\\\\-|3)')"
   ]
  },
  {
   "cell_type": "code",
   "execution_count": 13,
   "metadata": {},
   "outputs": [],
   "source": [
    "ggc$groupCH4 <- str_c(ggc$Sample, ggc$condition)"
   ]
  },
  {
   "cell_type": "code",
   "execution_count": 14,
   "metadata": {},
   "outputs": [
    {
     "data": {
      "text/plain": [
       "            Df Sum Sq Mean Sq F value  Pr(>F)   \n",
       "groupCH4     4  159.3   39.83   6.606 0.00722 **\n",
       "Residuals   10   60.3    6.03                   \n",
       "---\n",
       "Signif. codes:  0 ‘***’ 0.001 ‘**’ 0.01 ‘*’ 0.05 ‘.’ 0.1 ‘ ’ 1"
      ]
     },
     "metadata": {},
     "output_type": "display_data"
    }
   ],
   "source": [
    "mod_ch4 <- lm(Concentration ~ groupCH4, data = ggc %>% subset(gas == 'CH4' & !str_detect(SampleBatch, pattern = 'B')))\n",
    "ano_ch4 <- aov(mod_ch4)\n",
    "ano_ch4 %>% summary"
   ]
  },
  {
   "cell_type": "code",
   "execution_count": 15,
   "metadata": {},
   "outputs": [
    {
     "data": {
      "text/plain": [
       "  Tukey multiple comparisons of means\n",
       "    95% family-wise confidence level\n",
       "\n",
       "Fit: aov(formula = mod_ch4)\n",
       "\n",
       "$groupCH4\n",
       "                           diff        lwr       upr     p adj\n",
       "MCN2_2bar-MCH2_2bar  -8.4040888 -15.002631 -1.805546 0.0124845\n",
       "MCN2_atm-MCH2_2bar   -7.6395550 -14.238097 -1.041013 0.0223603\n",
       "MH2H2_2bar-MCH2_2bar -5.1650888 -11.763631  1.433453 0.1488337\n",
       "MH2H2_atm-MCH2_2bar  -8.8187092 -15.417252 -2.220167 0.0091472\n",
       "MCN2_atm-MCN2_2bar    0.7645338  -5.834009  7.363076 0.9947654\n",
       "MH2H2_2bar-MCN2_2bar  3.2390000  -3.359542  9.837542 0.5203963\n",
       "MH2H2_atm-MCN2_2bar  -0.4146204  -7.013163  6.183922 0.9995164\n",
       "MH2H2_2bar-MCN2_atm   2.4744662  -4.124076  9.073008 0.7334141\n",
       "MH2H2_atm-MCN2_atm   -1.1791542  -7.777697  5.419388 0.9738486\n",
       "MH2H2_atm-MH2H2_2bar -3.6536204 -10.252163  2.944922 0.4128934\n"
      ]
     },
     "metadata": {},
     "output_type": "display_data"
    }
   ],
   "source": [
    "TukeyHSD(ano_ch4)"
   ]
  }
 ],
 "metadata": {
  "kernelspec": {
   "display_name": "R [conda env:test]",
   "language": "R",
   "name": "conda-env-test-r"
  },
  "language_info": {
   "codemirror_mode": "r",
   "file_extension": ".r",
   "mimetype": "text/x-r-source",
   "name": "R",
   "pygments_lexer": "r",
   "version": "3.4.1"
  },
  "toc": {
   "base_numbering": 1,
   "nav_menu": {},
   "number_sections": true,
   "sideBar": true,
   "skip_h1_title": false,
   "title_cell": "Table of Contents",
   "title_sidebar": "Contents",
   "toc_cell": false,
   "toc_position": {
    "height": "971px",
    "left": "0px",
    "right": "1643px",
    "top": "111px",
    "width": "165px"
   },
   "toc_section_display": "block",
   "toc_window_display": true
  }
 },
 "nbformat": 4,
 "nbformat_minor": 2
}
